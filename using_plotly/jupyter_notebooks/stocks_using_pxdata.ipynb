{
 "cells": [
  {
   "cell_type": "markdown",
   "metadata": {},
   "source": [
    "# Ploty Practice\n"
   ]
  },
  {
   "cell_type": "code",
   "execution_count": 9,
   "metadata": {},
   "outputs": [
    {
     "data": {
      "text/html": [
       "        <script type=\"text/javascript\">\n",
       "        window.PlotlyConfig = {MathJaxConfig: 'local'};\n",
       "        if (window.MathJax) {MathJax.Hub.Config({SVG: {font: \"STIX-Web\"}});}\n",
       "        if (typeof require !== 'undefined') {\n",
       "        require.undef(\"plotly\");\n",
       "        requirejs.config({\n",
       "            paths: {\n",
       "                'plotly': ['https://cdn.plot.ly/plotly-latest.min']\n",
       "            }\n",
       "        });\n",
       "        require(['plotly'], function(Plotly) {\n",
       "            window._Plotly = Plotly;\n",
       "        });\n",
       "        }\n",
       "        </script>\n",
       "        "
      ]
     },
     "metadata": {},
     "output_type": "display_data"
    }
   ],
   "source": [
    "import pandas as pd\n",
    "import numpy as np\n",
    "# import cufflinks as cf\n",
    "# import seaborn as sns\n",
    "import chart_studio.plotly as py\n",
    "from plotly.offline import init_notebook_mode, iplot\n",
    "import plotly.graph_objs as go\n",
    "import plotly.express as px\n",
    "%matplotlib inline\n",
    "\n",
    "from plotly.offline import download_plotlyjs, init_notebook_mode, plot, iplot\n",
    "init_notebook_mode(connected=True)         # initiate notebook for offline plot      \n",
    "# cf.go_offline()"
   ]
  },
  {
   "cell_type": "code",
   "execution_count": null,
   "metadata": {},
   "outputs": [],
   "source": [
    "# Line plots\n",
    "df_stocks = px.data.stocks()\n",
    "\n",
    "# single plot\n",
    "px.line(df_stocks, x='date', y='GOOG', labels={'x': 'Date', 'y':'Price'})\n",
    "\n",
    "# multiple plot\n",
    "px.line(df_stocks, x='date', y=['MSFT', 'AAPL'], labels={'x': 'Date', 'y':'Price'}, title='Apple vs MSFT')\n"
   ]
  },
  {
   "cell_type": "code",
   "execution_count": null,
   "metadata": {
    "scrolled": true
   },
   "outputs": [],
   "source": [
    "fig = go.Figure()\n",
    "fig.add_trace(go.Scatter(x=df_stocks.date, y=df_stocks.AAPL,\n",
    "                        mode='lines', name='Apple'))\n",
    "fig.add_trace(go.Scatter(x=df_stocks.date, y=df_stocks.AMZN,\n",
    "                        mode='lines', name='Amazon'))"
   ]
  },
  {
   "cell_type": "code",
   "execution_count": null,
   "metadata": {
    "scrolled": true
   },
   "outputs": [],
   "source": [
    "# bar chart\n",
    "df_us = px.data.gapminder().query(\"country == 'India'\")\n",
    "px.bar(df_us, x='year', y='pop')"
   ]
  },
  {
   "cell_type": "code",
   "execution_count": null,
   "metadata": {},
   "outputs": [],
   "source": [
    "df_tips = px.data.tips()\n",
    "px.bar(df_tips, x='day', y='tip', color='sex')"
   ]
  },
  {
   "cell_type": "code",
   "execution_count": null,
   "metadata": {},
   "outputs": [],
   "source": [
    "# pie chart\n",
    "# Create Pie chart of the largest nations in Asia\n",
    "# Color maps here plotly.com/python/builtin-colorscales/\n",
    "# Create Pie chart of the largest nations in Asia\n",
    "# Color maps here plotly.com/python/builtin-colorscales/\n",
    "df_samer = px.data.gapminder().query(\"year == 2007\").query(\"continent == 'Asia'\")\n",
    "px.pie(df_samer, values='pop', names='country', \n",
    "       title='Population of Asian continent', \n",
    "       color_discrete_sequence=px.colors.sequential.RdBu)"
   ]
  }
 ],
 "metadata": {
  "kernelspec": {
   "display_name": "Python 3",
   "language": "python",
   "name": "python3"
  },
  "language_info": {
   "codemirror_mode": {
    "name": "ipython",
    "version": 3
   },
   "file_extension": ".py",
   "mimetype": "text/x-python",
   "name": "python",
   "nbconvert_exporter": "python",
   "pygments_lexer": "ipython3",
   "version": "3.8.2"
  }
 },
 "nbformat": 4,
 "nbformat_minor": 4
}
